{
 "cells": [
  {
   "cell_type": "code",
   "execution_count": null,
   "id": "291adc28",
   "metadata": {},
   "outputs": [],
   "source": [
    "import numpy as np\n",
    "import matplotlib.pyplot as plt\n",
    "from tensorflow import keras\n",
    "from tensorflow.keras import optimizers\n",
    "from tensorflow.keras.models import Sequential\n",
    "from tensorflow.keras.layers import Dense, Conv2D, Flatten, AveragePooling2D,Dropout, GlobalAveragePooling2D\n",
    "from tensorflow.keras.preprocessing.image import ImageDataGenerator"
   ]
  },
  {
   "cell_type": "code",
   "execution_count": null,
   "id": "487035a9",
   "metadata": {},
   "outputs": [],
   "source": [
    "from tensorflow.keras.datasets import mnist\n",
    "from tensorflow.keras.utils import to_categorical"
   ]
  },
  {
   "cell_type": "code",
   "execution_count": null,
   "id": "0dcdf5ff",
   "metadata": {},
   "outputs": [],
   "source": [
    "(X_train_data,Y_train_data),(X_test_data,Y_test_data) = mnist.load_data()"
   ]
  },
  {
   "cell_type": "code",
   "execution_count": null,
   "id": "24274c26",
   "metadata": {},
   "outputs": [],
   "source": [
    " X_test_data.shape"
   ]
  },
  {
   "cell_type": "code",
   "execution_count": null,
   "id": "dfb22a66",
   "metadata": {},
   "outputs": [],
   "source": [
    " X_train = X_train_data.reshape(60000, 28, 28, 1)\n",
    "X_test = X_test_data.reshape(10000, 28, 28, 1)\n",
    "Y_train = to_categorical(Y_train_data, 10)\n",
    "Y_test = to_categorical(Y_test_data, 10)"
   ]
  },
  {
   "cell_type": "code",
   "execution_count": null,
   "id": "c5803626",
   "metadata": {},
   "outputs": [],
   "source": [
    " X_train = X_train*(1/255)\n",
    "X_test = X_test*(1/255)"
   ]
  },
  {
   "cell_type": "code",
   "execution_count": null,
   "id": "ca752bf4",
   "metadata": {},
   "outputs": [],
   "source": [
    "X_train.shape"
   ]
  },
  {
   "cell_type": "code",
   "execution_count": null,
   "id": "e8586187",
   "metadata": {},
   "outputs": [],
   "source": [
    "model = Sequential()\n",
    "model.add(Conv2D(32, kernel_size = (3,3), input_shape = (28, 28, 1), activation␣\n",
    ",→= 'relu', padding='same'))\n",
    "model.add(AveragePooling2D(pool_size=(2, 2)))\n",
    "model.add(Dropout(0.25))\n",
    "model.add(Conv2D(64, kernel_size = (3,3), activation = 'relu', padding='same'))\n",
    "model.add(AveragePooling2D(pool_size=(2, 2)))\n",
    "model.add(Dropout(0.25))\n",
    "model.add(Flatten())\n",
    "model.add(Dense(10, activation = 'softmax'))\n",
    "model.summary()\n"
   ]
  },
  {
   "cell_type": "code",
   "execution_count": null,
   "id": "3568363b",
   "metadata": {},
   "outputs": [],
   "source": [
    "model.compile(loss='categorical_crossentropy',\n",
    "optimizer='adam',metrics=['accuracy'])\n"
   ]
  },
  {
   "cell_type": "code",
   "execution_count": null,
   "id": "ae0d9d99",
   "metadata": {},
   "outputs": [],
   "source": [
    "model.fit(X_train, Y_train, batch_size=32, epochs=10)\n"
   ]
  },
  {
   "cell_type": "code",
   "execution_count": null,
   "id": "76ae83be",
   "metadata": {},
   "outputs": [],
   "source": [
    " Evaluation_du_model = model.evaluate(X_test, Y_test, verbose=0)\n",
    "print('Erreur des données de test:', Evaluation_du_model[0])\n",
    "print('Précision des données de test:', Evaluation_du_model[1])"
   ]
  },
  {
   "cell_type": "code",
   "execution_count": null,
   "id": "1c362807",
   "metadata": {},
   "outputs": [],
   "source": [
    "enregistrement = model.save('chiffre.h5')\n"
   ]
  },
  {
   "cell_type": "code",
   "execution_count": null,
   "id": "efd88da2",
   "metadata": {},
   "outputs": [],
   "source": [
    " Y_prediction = model.predict(X_test)\n"
   ]
  },
  {
   "cell_type": "code",
   "execution_count": null,
   "id": "8ab5f7b9",
   "metadata": {},
   "outputs": [],
   "source": [
    "i = 7\n",
    "chiffre_predict = np.argmax(Y_prediction[i])\n",
    "chiffre_attendu = Y_test_data[i]\n",
    "print('Le chiffre predict est :',chiffre_predict)\n",
    "print('Le chiffre attendu est :',chiffre_attendu)\n",
    "plt.imshow(X_test_data[i])\n",
    "plt.show"
   ]
  },
  {
   "cell_type": "code",
   "execution_count": null,
   "id": "a8b6b82b",
   "metadata": {},
   "outputs": [],
   "source": [
    "modele = Sequential()\n",
    "modele.add(Conv2D(6, input_shape = (28, 28, 1), strides = (1, 1), kernel_size =␣\n",
    ",→(5, 5), activation ='tanh', padding = 'same'))\n",
    "modele.add(AveragePooling2D(pool_size=(2, 2), strides = 2, padding = 'valid' ))\n",
    "modele.add(Conv2D(16, strides = (1, 1), kernel_size = (5, 5), activation␣\n",
    ",→='tanh', padding = 'valid'))\n",
    "modele.add(AveragePooling2D(pool_size=(2, 2), strides = (2, 2), padding =␣\n",
    ",→'valid'))\n",
    "modele.add(Conv2D(120, strides = (1, 1), kernel_size = (5, 5), activation␣\n",
    ",→='tanh', padding = 'valid'))\n",
    "modele.add(Flatten())\n",
    "modele.add(Dense(84, activation = 'tanh'))\n",
    "modele.add(Dense(10, activation = 'softmax'))\n",
    "modele.summary()\n"
   ]
  },
  {
   "cell_type": "code",
   "execution_count": null,
   "id": "9f41174c",
   "metadata": {},
   "outputs": [],
   "source": [
    "modele.compile(loss='categorical_crossentropy',\n",
    "optimizer='SGD',metrics=['accuracy'])"
   ]
  },
  {
   "cell_type": "code",
   "execution_count": null,
   "id": "1a2df6b8",
   "metadata": {},
   "outputs": [],
   "source": [
    "modele.fit(X_train, Y_train, batch_size=32, epochs=10)\n"
   ]
  },
  {
   "cell_type": "code",
   "execution_count": null,
   "id": "2b5b7585",
   "metadata": {},
   "outputs": [],
   "source": [
    "Y_predictio = model.predict(X_test)\n",
    "i = 8\n",
    "chiffre_predict = np.argmax(Y_predictio[i])\n",
    "chiffre_attendu = Y_test_data[i]\n",
    "print('Le chiffre predict est :',chiffre_predict)\n",
    "print('Le chiffre attendu est :',chiffre_attendu)\n",
    "plt.imshow(X_test_data[i])\n",
    "plt.show"
   ]
  },
  {
   "cell_type": "code",
   "execution_count": null,
   "id": "bd346870",
   "metadata": {},
   "outputs": [],
   "source": []
  },
  {
   "cell_type": "code",
   "execution_count": null,
   "id": "cb44c4f4",
   "metadata": {},
   "outputs": [],
   "source": []
  },
  {
   "cell_type": "code",
   "execution_count": null,
   "id": "d456aeab",
   "metadata": {},
   "outputs": [],
   "source": []
  }
 ],
 "metadata": {
  "kernelspec": {
   "display_name": "Python 3",
   "language": "python",
   "name": "python3"
  },
  "language_info": {
   "codemirror_mode": {
    "name": "ipython",
    "version": 3
   },
   "file_extension": ".py",
   "mimetype": "text/x-python",
   "name": "python",
   "nbconvert_exporter": "python",
   "pygments_lexer": "ipython3",
   "version": "3.8.8"
  }
 },
 "nbformat": 4,
 "nbformat_minor": 5
}
